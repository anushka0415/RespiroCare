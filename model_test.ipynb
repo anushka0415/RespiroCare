{
 "cells": [
  {
   "cell_type": "code",
   "execution_count": 136,
   "id": "4f074a3e",
   "metadata": {},
   "outputs": [
    {
     "name": "stdout",
     "output_type": "stream",
     "text": [
      "Model: \"sequential\"\n",
      "_________________________________________________________________\n",
      " Layer (type)                Output Shape              Param #   \n",
      "=================================================================\n",
      " conv1d (Conv1D)             (None, 189, 64)           384       \n",
      "                                                                 \n",
      " conv1d_1 (Conv1D)           (None, 185, 128)          41088     \n",
      "                                                                 \n",
      " max_pooling1d (MaxPooling1D  (None, 92, 128)          0         \n",
      " )                                                               \n",
      "                                                                 \n",
      " conv1d_2 (Conv1D)           (None, 88, 256)           164096    \n",
      "                                                                 \n",
      " dropout (Dropout)           (None, 88, 256)           0         \n",
      "                                                                 \n",
      " flatten (Flatten)           (None, 22528)             0         \n",
      "                                                                 \n",
      " dense (Dense)               (None, 512)               11534848  \n",
      "                                                                 \n",
      " dense_1 (Dense)             (None, 6)                 3078      \n",
      "                                                                 \n",
      "=================================================================\n",
      "Total params: 11,743,494\n",
      "Trainable params: 11,743,494\n",
      "Non-trainable params: 0\n",
      "_________________________________________________________________\n",
      "None\n"
     ]
    }
   ],
   "source": [
    "import gradio as gr\n",
    "import json\n",
    "from tensorflow.keras.models import model_from_json\n",
    "from tensorflow import keras\n",
    "from keras.layers import Input\n",
    "# Load the model architecture from a JSON file\n",
    "with open('model.json', 'r') as f:\n",
    "    model_json = f.read()\n",
    "    f.close()\n",
    "\n",
    "keras.backend.clear_session()\n",
    "model_new = model_from_json(model_json)\n",
    "\n",
    "# Load the trained weights from an H5 file\n",
    "model_new.load_weights('model.h5')\n",
    "model_new.compile(loss='categorical_crossentropy', optimizer='adam', metrics=['accuracy'])\n",
    "print(model_new.summary())"
   ]
  },
  {
   "cell_type": "code",
   "execution_count": 135,
   "id": "3f950398",
   "metadata": {},
   "outputs": [
    {
     "name": "stdout",
     "output_type": "stream",
     "text": [
      "1/1 [==============================] - 0s 46ms/step\n"
     ]
    },
    {
     "data": {
      "text/plain": [
       "{'COPD': 100.0,\n",
       " 'healthy': 0.0,\n",
       " 'URTI': 0.0,\n",
       " 'Bronchiectasis': 0.0,\n",
       " 'Pneumonia': 0.0,\n",
       " 'Bronchiolitis': 0.0}"
      ]
     },
     "execution_count": 135,
     "metadata": {},
     "output_type": "execute_result"
    }
   ],
   "source": [
    "import librosa\n",
    "import numpy as np\n",
    "def model_predict(audio):\n",
    "    sound, sample_rate = librosa.load(audio)\n",
    "    stft = np.abs(librosa.stft(sound))\n",
    "\n",
    "    mfccs = np.mean(librosa.feature.mfcc(y=sound, sr=sample_rate, n_mfcc=40), axis=1)\n",
    "    chroma = np.mean(librosa.feature.chroma_stft(S=stft, sr=sample_rate), axis=1)\n",
    "    mel = np.mean(librosa.feature.melspectrogram(y=sound, sr=sample_rate), axis=1)\n",
    "    contrast = np.mean(librosa.feature.spectral_contrast(S=stft, sr=sample_rate), axis=1)\n",
    "    tonnetz = np.mean(librosa.feature.tonnetz(y=librosa.effects.harmonic(sound), sr=sample_rate), axis=1)\n",
    "\n",
    "    concat = np.concatenate((mfccs, chroma, mel, contrast, tonnetz))\n",
    "    preds = model_new.predict(np.array([np.reshape(concat, (193, 1))])) \n",
    "    preds = [round(ele * 100, 2) for ele in preds[0]]\n",
    "    return dict({\"COPD\": preds[0],\n",
    "                 \"healthy\": preds[1],                 \"URTI\": preds[2],                    \"Bronchiectasis\": preds[3],\n",
    "                 \"Pneumonia\": preds[4],\n",
    "                   \"Bronchiolitis\": preds[5]})\n",
    "model_predict('sound.mp3') \n",
    "   \n",
    "  "
   ]
  },
  {
   "cell_type": "code",
   "execution_count": 132,
   "id": "ae7127b1",
   "metadata": {},
   "outputs": [],
   "source": [
    "audio_input = gr.Audio(type='filepath',label='Upload an audio file')\n",
    "label_output = gr.Label(label='Predicted respiratory disease')\n",
    "\n",
    "# Create the Gradio interface with the classify_respiratory_sound function as the prediction function\n",
    "gradio_interface = gr.Interface(fn=model_predict, inputs=audio_input, outputs=label_output, \n",
    "                                title='Respiratory Sound Classification', \n",
    "                                description='Upload an audio file of respiratory sound to classify the respiratory disease.')"
   ]
  },
  {
   "cell_type": "code",
   "execution_count": 133,
   "id": "4ddb0da7",
   "metadata": {
    "scrolled": true
   },
   "outputs": [
    {
     "name": "stdout",
     "output_type": "stream",
     "text": [
      "Running on local URL:  http://127.0.0.1:7882\n",
      "\n",
      "To create a public link, set `share=True` in `launch()`.\n"
     ]
    },
    {
     "data": {
      "text/html": [
       "<div><iframe src=\"http://127.0.0.1:7882/\" width=\"100%\" height=\"500\" allow=\"autoplay; camera; microphone; clipboard-read; clipboard-write;\" frameborder=\"0\" allowfullscreen></iframe></div>"
      ],
      "text/plain": [
       "<IPython.core.display.HTML object>"
      ]
     },
     "metadata": {},
     "output_type": "display_data"
    },
    {
     "data": {
      "text/plain": []
     },
     "execution_count": 133,
     "metadata": {},
     "output_type": "execute_result"
    },
    {
     "name": "stdout",
     "output_type": "stream",
     "text": [
      "1/1 [==============================] - 0s 65ms/step\n"
     ]
    }
   ],
   "source": [
    "gradio_interface.launch()"
   ]
  },
  {
   "cell_type": "code",
   "execution_count": null,
   "id": "b6c4b562",
   "metadata": {},
   "outputs": [],
   "source": []
  }
 ],
 "metadata": {
  "kernelspec": {
   "display_name": "Python 3 (ipykernel)",
   "language": "python",
   "name": "python3"
  },
  "language_info": {
   "codemirror_mode": {
    "name": "ipython",
    "version": 3
   },
   "file_extension": ".py",
   "mimetype": "text/x-python",
   "name": "python",
   "nbconvert_exporter": "python",
   "pygments_lexer": "ipython3",
   "version": "3.9.12"
  }
 },
 "nbformat": 4,
 "nbformat_minor": 5
}
